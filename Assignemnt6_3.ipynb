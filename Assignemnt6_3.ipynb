{
 "cells": [
  {
   "cell_type": "code",
   "execution_count": 1,
   "metadata": {},
   "outputs": [],
   "source": [
    "import numpy as np\n",
    "import matplotlib.pyplot as plt\n",
    "import texttable as tt"
   ]
  },
  {
   "cell_type": "code",
   "execution_count": 2,
   "metadata": {},
   "outputs": [],
   "source": [
    "with open('spectX.txt','r') as fd:\n",
    "    lines=fd.readlines()\n",
    "data=np.array([])\n",
    "temp=np.array([])\n",
    "for i,line in enumerate(lines):\n",
    "    if (i!=266):\n",
    "        temp=np.array(line.split(' ')[0:-1])\n",
    "    else:\n",
    "        temp=np.array(line.split(' ')[0:])\n",
    "    temp=np.reshape(temp,(-1,23))\n",
    "    if i==0:\n",
    "        data=np.array(temp)\n",
    "    else:\n",
    "         data=np.append(data,temp,axis=0)\n",
    "data[266,22]='1'\n",
    "spx=data.astype(int)\n"
   ]
  },
  {
   "cell_type": "code",
   "execution_count": 3,
   "metadata": {},
   "outputs": [],
   "source": [
    "with open('spectY.txt','r') as fd:\n",
    "        lines=fd.readlines()\n",
    "data=np.array([])\n",
    "temp=np.empty(shape=(1,1))\n",
    "for i,line in enumerate(lines):\n",
    "    data=np.append(data,line[0])\n",
    "spy=data.astype(int)\n",
    "spy=np.reshape(spy,(267,1))"
   ]
  },
  {
   "cell_type": "code",
   "execution_count": 4,
   "metadata": {},
   "outputs": [],
   "source": [
    "def noisy_or(x,p):\n",
    "    return 1-np.reshape(np.prod(np.power(1-p,x),axis=1),(267,1))"
   ]
  },
  {
   "cell_type": "code",
   "execution_count": 5,
   "metadata": {},
   "outputs": [],
   "source": [
    "def e_step(x,p,y):\n",
    "    return (y*x)*p/noisy_or(x,p)"
   ]
  },
  {
   "cell_type": "code",
   "execution_count": 6,
   "metadata": {},
   "outputs": [],
   "source": [
    "def mistakes(x,p,y):\n",
    "    ni=noisy_or(x,p)\n",
    "    mssum=[1 if l!=np.round(m) else 0 for l,m in zip(y,ni)]\n",
    "    return np.sum(mssum)"
   ]
  },
  {
   "cell_type": "code",
   "execution_count": 7,
   "metadata": {},
   "outputs": [],
   "source": [
    "def loglikelihood(x,p,y,T):\n",
    "    llhood=0\n",
    "    nor=noisy_or(x,p)\n",
    "    for yi,ni in zip(y,nor):\n",
    "        if(yi==1):\n",
    "            llhood+=np.log(ni)\n",
    "        else:\n",
    "            llhood+=np.log(1-ni)\n",
    "    return llhood/T"
   ]
  },
  {
   "cell_type": "code",
   "execution_count": 8,
   "metadata": {},
   "outputs": [],
   "source": [
    "def p_update(x,y,p,T):\n",
    "    llhood=[]\n",
    "    ms=[]\n",
    "    pold=p\n",
    "    Ti=np.sum(x,axis=0)\n",
    "    llhood.append(loglikelihood(x,pold,y,T)) \n",
    "    ms.append(mistakes(x,pold,y))\n",
    "    for i in range(0,256):\n",
    "        pnew=np.zeros((1,23))\n",
    "        pnew=np.reshape(np.sum(e_step(spx,pold,spy),axis=0)/Ti,(1,23))\n",
    "        llhood.append(loglikelihood(x,pnew,y,T))\n",
    "        ms.append(mistakes(x,pnew,y))\n",
    "        pold=pnew\n",
    "    return pnew,llhood,ms\n",
    "    "
   ]
  },
  {
   "cell_type": "code",
   "execution_count": 9,
   "metadata": {},
   "outputs": [],
   "source": [
    "p=0.05*np.ones((1,23))\n",
    "p,llhood,ms=p_update(spx,spy,p,np.shape(spx)[0])"
   ]
  },
  {
   "cell_type": "code",
   "execution_count": 12,
   "metadata": {},
   "outputs": [
    {
     "name": "stdout",
     "output_type": "stream",
     "text": [
      "+-----------+----------------------+------------------+\n",
      "| iteration | number of mistakes M | log-likelihood L |\n",
      "+===========+======================+==================+\n",
      "|     0     |         175          |    [-0.95809]    |\n",
      "+-----------+----------------------+------------------+\n",
      "|     1     |          56          |    [-0.49592]    |\n",
      "+-----------+----------------------+------------------+\n",
      "|     2     |          43          |    [-0.40822]    |\n",
      "+-----------+----------------------+------------------+\n",
      "|     4     |          42          |    [-0.36461]    |\n",
      "+-----------+----------------------+------------------+\n",
      "|     8     |          44          |    [-0.3475]     |\n",
      "+-----------+----------------------+------------------+\n",
      "|    16     |          40          |    [-0.33462]    |\n",
      "+-----------+----------------------+------------------+\n",
      "|    32     |          37          |    [-0.32258]    |\n",
      "+-----------+----------------------+------------------+\n",
      "|    64     |          37          |    [-0.31483]    |\n",
      "+-----------+----------------------+------------------+\n",
      "|    128    |          36          |    [-0.31116]    |\n",
      "+-----------+----------------------+------------------+\n",
      "|    256    |          36          |    [-0.31016]    |\n",
      "+-----------+----------------------+------------------+\n"
     ]
    }
   ],
   "source": [
    "\n",
    "tab=tt.Texttable()\n",
    "tab.header(['iteration','number of mistakes M','log-likelihood L'])\n",
    "iteration=[0 if x==-1 else 2**x for x in range(-1,9)]\n",
    "for i in iteration:\n",
    "        row=[str(i),str(ms[i]),str(np.round(llhood[i],5))]\n",
    "        tab.add_row(row)\n",
    "tab.set_cols_align(['c','c','c'])\n",
    "s=tab.draw()\n",
    "print(s)"
   ]
  },
  {
   "cell_type": "code",
   "execution_count": null,
   "metadata": {},
   "outputs": [],
   "source": []
  },
  {
   "cell_type": "code",
   "execution_count": null,
   "metadata": {},
   "outputs": [],
   "source": []
  }
 ],
 "metadata": {
  "kernelspec": {
   "display_name": "Python 3",
   "language": "python",
   "name": "python3"
  },
  "language_info": {
   "codemirror_mode": {
    "name": "ipython",
    "version": 3
   },
   "file_extension": ".py",
   "mimetype": "text/x-python",
   "name": "python",
   "nbconvert_exporter": "python",
   "pygments_lexer": "ipython3",
   "version": "3.7.3"
  }
 },
 "nbformat": 4,
 "nbformat_minor": 2
}
